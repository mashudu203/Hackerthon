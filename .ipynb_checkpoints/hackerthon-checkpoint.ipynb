{
 "cells": [
  {
   "cell_type": "code",
   "execution_count": 1,
   "metadata": {
    "id": "VFA4pmnuGS3V"
   },
   "outputs": [],
   "source": [
    "####imports\n",
    "import pandas as pd\n",
    "from os import path"
   ]
  },
  {
   "cell_type": "code",
   "execution_count": 2,
   "metadata": {
    "colab": {
     "base_uri": "https://localhost:8080/",
     "height": 191
    },
    "executionInfo": {
     "elapsed": 31,
     "status": "error",
     "timestamp": 1638466241573,
     "user": {
      "displayName": "mashud selepe",
      "photoUrl": "https://lh3.googleusercontent.com/a/default-user=s64",
      "userId": "03521956491830212100"
     },
     "user_tz": -120
    },
    "id": "SGlug6-1GbUy",
    "outputId": "b1544005-641b-46ff-e518-e31a3b1baa70"
   },
   "outputs": [],
   "source": [
    "train_df = pd.read_csv(\"train_set.csv\")\n",
    "test_df=pd.read_csv(\"test_set.csv\")"
   ]
  },
  {
   "cell_type": "code",
   "execution_count": null,
   "metadata": {
    "id": "RI7FpfTvLgLo"
   },
   "outputs": [],
   "source": []
  }
 ],
 "metadata": {
  "colab": {
   "authorship_tag": "ABX9TyOVQJTG3eOO6fuFDHgqlGn1",
   "name": "hackerthon.ipynb",
   "provenance": []
  },
  "kernelspec": {
   "display_name": "Python 3",
   "language": "python",
   "name": "python3"
  },
  "language_info": {
   "codemirror_mode": {
    "name": "ipython",
    "version": 3
   },
   "file_extension": ".py",
   "mimetype": "text/x-python",
   "name": "python",
   "nbconvert_exporter": "python",
   "pygments_lexer": "ipython3",
   "version": "3.8.8"
  }
 },
 "nbformat": 4,
 "nbformat_minor": 1
}
